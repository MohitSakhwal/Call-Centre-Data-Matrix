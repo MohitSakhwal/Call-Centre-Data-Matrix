{
 "cells": [
  {
   "cell_type": "code",
   "execution_count": 1,
   "id": "a712d74f",
   "metadata": {
    "_cell_guid": "66595e17-16db-4ccf-9d7d-17ce645c7870",
    "_uuid": "d09641f6-e60f-43a7-ab67-99405947b6f3",
    "collapsed": false,
    "execution": {
     "iopub.execute_input": "2025-07-14T09:13:11.391355Z",
     "iopub.status.busy": "2025-07-14T09:13:11.390949Z",
     "iopub.status.idle": "2025-07-14T09:13:13.316005Z",
     "shell.execute_reply": "2025-07-14T09:13:13.315051Z"
    },
    "jupyter": {
     "outputs_hidden": false
    },
    "papermill": {
     "duration": 1.935869,
     "end_time": "2025-07-14T09:13:13.318388",
     "exception": false,
     "start_time": "2025-07-14T09:13:11.382519",
     "status": "completed"
    },
    "tags": []
   },
   "outputs": [],
   "source": [
    "\n",
    "import numpy as np \n",
    "import pandas as pd \n",
    "import matplotlib.pyplot as plt\n",
    "df = pd.read_excel('/kaggle/input/pwc-call-centre-analysis/01 Call-Center-Dataset.xlsx')"
   ]
  },
  {
   "cell_type": "code",
   "execution_count": 2,
   "id": "aa201d91",
   "metadata": {
    "_cell_guid": "5befba43-ea6e-46f7-8c2e-a8dec88aefea",
    "_uuid": "0a2d6b40-5109-47d3-9efc-e7d649b01d48",
    "collapsed": false,
    "execution": {
     "iopub.execute_input": "2025-07-14T09:13:13.333553Z",
     "iopub.status.busy": "2025-07-14T09:13:13.332757Z",
     "iopub.status.idle": "2025-07-14T09:13:13.360977Z",
     "shell.execute_reply": "2025-07-14T09:13:13.359932Z"
    },
    "jupyter": {
     "outputs_hidden": false
    },
    "papermill": {
     "duration": 0.03851,
     "end_time": "2025-07-14T09:13:13.363700",
     "exception": false,
     "start_time": "2025-07-14T09:13:13.325190",
     "status": "completed"
    },
    "tags": []
   },
   "outputs": [
    {
     "data": {
      "text/html": [
       "<div>\n",
       "<style scoped>\n",
       "    .dataframe tbody tr th:only-of-type {\n",
       "        vertical-align: middle;\n",
       "    }\n",
       "\n",
       "    .dataframe tbody tr th {\n",
       "        vertical-align: top;\n",
       "    }\n",
       "\n",
       "    .dataframe thead th {\n",
       "        text-align: right;\n",
       "    }\n",
       "</style>\n",
       "<table border=\"1\" class=\"dataframe\">\n",
       "  <thead>\n",
       "    <tr style=\"text-align: right;\">\n",
       "      <th></th>\n",
       "      <th>Call Id</th>\n",
       "      <th>Agent</th>\n",
       "      <th>Date</th>\n",
       "      <th>Time</th>\n",
       "      <th>Topic</th>\n",
       "      <th>Answered (Y/N)</th>\n",
       "      <th>Resolved</th>\n",
       "      <th>Speed of answer in seconds</th>\n",
       "      <th>AvgTalkDuration</th>\n",
       "      <th>Satisfaction rating</th>\n",
       "    </tr>\n",
       "  </thead>\n",
       "  <tbody>\n",
       "    <tr>\n",
       "      <th>0</th>\n",
       "      <td>ID0001</td>\n",
       "      <td>Diane</td>\n",
       "      <td>2021-01-01</td>\n",
       "      <td>09:12:58</td>\n",
       "      <td>Contract related</td>\n",
       "      <td>Y</td>\n",
       "      <td>Y</td>\n",
       "      <td>109.0</td>\n",
       "      <td>00:02:23</td>\n",
       "      <td>3.0</td>\n",
       "    </tr>\n",
       "    <tr>\n",
       "      <th>1</th>\n",
       "      <td>ID0002</td>\n",
       "      <td>Becky</td>\n",
       "      <td>2021-01-01</td>\n",
       "      <td>09:12:58</td>\n",
       "      <td>Technical Support</td>\n",
       "      <td>Y</td>\n",
       "      <td>N</td>\n",
       "      <td>70.0</td>\n",
       "      <td>00:04:02</td>\n",
       "      <td>3.0</td>\n",
       "    </tr>\n",
       "    <tr>\n",
       "      <th>2</th>\n",
       "      <td>ID0003</td>\n",
       "      <td>Stewart</td>\n",
       "      <td>2021-01-01</td>\n",
       "      <td>09:47:31</td>\n",
       "      <td>Contract related</td>\n",
       "      <td>Y</td>\n",
       "      <td>Y</td>\n",
       "      <td>10.0</td>\n",
       "      <td>00:02:11</td>\n",
       "      <td>3.0</td>\n",
       "    </tr>\n",
       "    <tr>\n",
       "      <th>3</th>\n",
       "      <td>ID0004</td>\n",
       "      <td>Greg</td>\n",
       "      <td>2021-01-01</td>\n",
       "      <td>09:47:31</td>\n",
       "      <td>Contract related</td>\n",
       "      <td>Y</td>\n",
       "      <td>Y</td>\n",
       "      <td>53.0</td>\n",
       "      <td>00:00:37</td>\n",
       "      <td>2.0</td>\n",
       "    </tr>\n",
       "    <tr>\n",
       "      <th>4</th>\n",
       "      <td>ID0005</td>\n",
       "      <td>Becky</td>\n",
       "      <td>2021-01-01</td>\n",
       "      <td>10:00:29</td>\n",
       "      <td>Payment related</td>\n",
       "      <td>Y</td>\n",
       "      <td>Y</td>\n",
       "      <td>95.0</td>\n",
       "      <td>00:01:00</td>\n",
       "      <td>3.0</td>\n",
       "    </tr>\n",
       "  </tbody>\n",
       "</table>\n",
       "</div>"
      ],
      "text/plain": [
       "  Call Id    Agent        Date      Time              Topic Answered (Y/N)  \\\n",
       "0  ID0001    Diane  2021-01-01  09:12:58   Contract related              Y   \n",
       "1  ID0002    Becky  2021-01-01  09:12:58  Technical Support              Y   \n",
       "2  ID0003  Stewart  2021-01-01  09:47:31   Contract related              Y   \n",
       "3  ID0004     Greg  2021-01-01  09:47:31   Contract related              Y   \n",
       "4  ID0005    Becky  2021-01-01  10:00:29    Payment related              Y   \n",
       "\n",
       "  Resolved  Speed of answer in seconds AvgTalkDuration  Satisfaction rating  \n",
       "0        Y                       109.0        00:02:23                  3.0  \n",
       "1        N                        70.0        00:04:02                  3.0  \n",
       "2        Y                        10.0        00:02:11                  3.0  \n",
       "3        Y                        53.0        00:00:37                  2.0  \n",
       "4        Y                        95.0        00:01:00                  3.0  "
      ]
     },
     "execution_count": 2,
     "metadata": {},
     "output_type": "execute_result"
    }
   ],
   "source": [
    "# show the first 5 rows\n",
    "df.head()"
   ]
  },
  {
   "cell_type": "code",
   "execution_count": 3,
   "id": "cb713c2d",
   "metadata": {
    "_cell_guid": "41f2a870-413a-4f3e-8081-bcc7a3213f04",
    "_uuid": "416f24d7-028b-44c3-b08d-fba422c6e880",
    "collapsed": false,
    "execution": {
     "iopub.execute_input": "2025-07-14T09:13:13.379909Z",
     "iopub.status.busy": "2025-07-14T09:13:13.379514Z",
     "iopub.status.idle": "2025-07-14T09:13:13.394009Z",
     "shell.execute_reply": "2025-07-14T09:13:13.393047Z"
    },
    "jupyter": {
     "outputs_hidden": false
    },
    "papermill": {
     "duration": 0.025085,
     "end_time": "2025-07-14T09:13:13.396168",
     "exception": false,
     "start_time": "2025-07-14T09:13:13.371083",
     "status": "completed"
    },
    "tags": []
   },
   "outputs": [
    {
     "data": {
      "text/html": [
       "<div>\n",
       "<style scoped>\n",
       "    .dataframe tbody tr th:only-of-type {\n",
       "        vertical-align: middle;\n",
       "    }\n",
       "\n",
       "    .dataframe tbody tr th {\n",
       "        vertical-align: top;\n",
       "    }\n",
       "\n",
       "    .dataframe thead th {\n",
       "        text-align: right;\n",
       "    }\n",
       "</style>\n",
       "<table border=\"1\" class=\"dataframe\">\n",
       "  <thead>\n",
       "    <tr style=\"text-align: right;\">\n",
       "      <th></th>\n",
       "      <th>Call Id</th>\n",
       "      <th>Agent</th>\n",
       "      <th>Date</th>\n",
       "      <th>Time</th>\n",
       "      <th>Topic</th>\n",
       "      <th>Answered (Y/N)</th>\n",
       "      <th>Resolved</th>\n",
       "      <th>Speed of answer in seconds</th>\n",
       "      <th>AvgTalkDuration</th>\n",
       "      <th>Satisfaction rating</th>\n",
       "    </tr>\n",
       "  </thead>\n",
       "  <tbody>\n",
       "    <tr>\n",
       "      <th>4995</th>\n",
       "      <td>ID4996</td>\n",
       "      <td>Jim</td>\n",
       "      <td>2021-03-31</td>\n",
       "      <td>16:37:55</td>\n",
       "      <td>Payment related</td>\n",
       "      <td>Y</td>\n",
       "      <td>Y</td>\n",
       "      <td>22.0</td>\n",
       "      <td>00:05:40</td>\n",
       "      <td>1.0</td>\n",
       "    </tr>\n",
       "    <tr>\n",
       "      <th>4996</th>\n",
       "      <td>ID4997</td>\n",
       "      <td>Diane</td>\n",
       "      <td>2021-03-31</td>\n",
       "      <td>16:45:07</td>\n",
       "      <td>Payment related</td>\n",
       "      <td>Y</td>\n",
       "      <td>Y</td>\n",
       "      <td>100.0</td>\n",
       "      <td>00:03:16</td>\n",
       "      <td>3.0</td>\n",
       "    </tr>\n",
       "    <tr>\n",
       "      <th>4997</th>\n",
       "      <td>ID4998</td>\n",
       "      <td>Diane</td>\n",
       "      <td>2021-03-31</td>\n",
       "      <td>16:53:46</td>\n",
       "      <td>Payment related</td>\n",
       "      <td>Y</td>\n",
       "      <td>Y</td>\n",
       "      <td>84.0</td>\n",
       "      <td>00:01:49</td>\n",
       "      <td>4.0</td>\n",
       "    </tr>\n",
       "    <tr>\n",
       "      <th>4998</th>\n",
       "      <td>ID4999</td>\n",
       "      <td>Jim</td>\n",
       "      <td>2021-03-31</td>\n",
       "      <td>17:02:24</td>\n",
       "      <td>Streaming</td>\n",
       "      <td>Y</td>\n",
       "      <td>Y</td>\n",
       "      <td>98.0</td>\n",
       "      <td>00:00:58</td>\n",
       "      <td>5.0</td>\n",
       "    </tr>\n",
       "    <tr>\n",
       "      <th>4999</th>\n",
       "      <td>ID5000</td>\n",
       "      <td>Diane</td>\n",
       "      <td>2021-03-31</td>\n",
       "      <td>17:39:50</td>\n",
       "      <td>Contract related</td>\n",
       "      <td>N</td>\n",
       "      <td>N</td>\n",
       "      <td>NaN</td>\n",
       "      <td>NaN</td>\n",
       "      <td>NaN</td>\n",
       "    </tr>\n",
       "  </tbody>\n",
       "</table>\n",
       "</div>"
      ],
      "text/plain": [
       "     Call Id  Agent        Date      Time             Topic Answered (Y/N)  \\\n",
       "4995  ID4996    Jim  2021-03-31  16:37:55   Payment related              Y   \n",
       "4996  ID4997  Diane  2021-03-31  16:45:07   Payment related              Y   \n",
       "4997  ID4998  Diane  2021-03-31  16:53:46   Payment related              Y   \n",
       "4998  ID4999    Jim  2021-03-31  17:02:24         Streaming              Y   \n",
       "4999  ID5000  Diane  2021-03-31  17:39:50  Contract related              N   \n",
       "\n",
       "     Resolved  Speed of answer in seconds AvgTalkDuration  Satisfaction rating  \n",
       "4995        Y                        22.0        00:05:40                  1.0  \n",
       "4996        Y                       100.0        00:03:16                  3.0  \n",
       "4997        Y                        84.0        00:01:49                  4.0  \n",
       "4998        Y                        98.0        00:00:58                  5.0  \n",
       "4999        N                         NaN             NaN                  NaN  "
      ]
     },
     "execution_count": 3,
     "metadata": {},
     "output_type": "execute_result"
    }
   ],
   "source": [
    "# show the last 5 rows\n",
    "df.tail()"
   ]
  },
  {
   "cell_type": "code",
   "execution_count": 4,
   "id": "07af5472",
   "metadata": {
    "_cell_guid": "29a6c83e-8362-4338-a7e7-8e39cb2536d9",
    "_uuid": "45581154-84c1-4f79-a202-90400e6e4ee2",
    "collapsed": false,
    "execution": {
     "iopub.execute_input": "2025-07-14T09:13:13.411542Z",
     "iopub.status.busy": "2025-07-14T09:13:13.411219Z",
     "iopub.status.idle": "2025-07-14T09:13:13.426486Z",
     "shell.execute_reply": "2025-07-14T09:13:13.425522Z"
    },
    "jupyter": {
     "outputs_hidden": false
    },
    "papermill": {
     "duration": 0.025381,
     "end_time": "2025-07-14T09:13:13.428532",
     "exception": false,
     "start_time": "2025-07-14T09:13:13.403151",
     "status": "completed"
    },
    "tags": []
   },
   "outputs": [
    {
     "data": {
      "text/plain": [
       "Call Id                       5000\n",
       "Agent                            8\n",
       "Date                            90\n",
       "Time                           375\n",
       "Topic                            5\n",
       "Answered (Y/N)                   2\n",
       "Resolved                         2\n",
       "Speed of answer in seconds     116\n",
       "AvgTalkDuration                391\n",
       "Satisfaction rating              5\n",
       "dtype: int64"
      ]
     },
     "execution_count": 4,
     "metadata": {},
     "output_type": "execute_result"
    }
   ],
   "source": [
    "# count the number of unique values in each column\n",
    "df.nunique()"
   ]
  },
  {
   "cell_type": "code",
   "execution_count": 5,
   "id": "3e8bc8c3",
   "metadata": {
    "_cell_guid": "1980cb89-8a79-4fe3-b1ad-2f58d611b934",
    "_uuid": "35efecfd-0c03-4226-a588-cd844608a8df",
    "collapsed": false,
    "execution": {
     "iopub.execute_input": "2025-07-14T09:13:13.446645Z",
     "iopub.status.busy": "2025-07-14T09:13:13.445796Z",
     "iopub.status.idle": "2025-07-14T09:13:13.461741Z",
     "shell.execute_reply": "2025-07-14T09:13:13.460833Z"
    },
    "jupyter": {
     "outputs_hidden": false
    },
    "papermill": {
     "duration": 0.026976,
     "end_time": "2025-07-14T09:13:13.464101",
     "exception": false,
     "start_time": "2025-07-14T09:13:13.437125",
     "status": "completed"
    },
    "tags": []
   },
   "outputs": [],
   "source": [
    "# drop duplicated rows\n",
    "df = df.drop_duplicates()"
   ]
  },
  {
   "cell_type": "code",
   "execution_count": 6,
   "id": "14914310",
   "metadata": {
    "_cell_guid": "d9f14010-5189-4f7c-8679-7bc998eda49b",
    "_uuid": "7382b8ce-3418-4e4b-8f92-62a152a4f21b",
    "collapsed": false,
    "execution": {
     "iopub.execute_input": "2025-07-14T09:13:13.479739Z",
     "iopub.status.busy": "2025-07-14T09:13:13.479382Z",
     "iopub.status.idle": "2025-07-14T09:13:13.494496Z",
     "shell.execute_reply": "2025-07-14T09:13:13.493461Z"
    },
    "jupyter": {
     "outputs_hidden": false
    },
    "papermill": {
     "duration": 0.025268,
     "end_time": "2025-07-14T09:13:13.496497",
     "exception": false,
     "start_time": "2025-07-14T09:13:13.471229",
     "status": "completed"
    },
    "tags": []
   },
   "outputs": [
    {
     "data": {
      "text/plain": [
       "Call Id                         0\n",
       "Agent                           0\n",
       "Date                            0\n",
       "Time                            0\n",
       "Topic                           0\n",
       "Answered (Y/N)                  0\n",
       "Resolved                        0\n",
       "Speed of answer in seconds    946\n",
       "AvgTalkDuration               946\n",
       "Satisfaction rating           946\n",
       "dtype: int64"
      ]
     },
     "execution_count": 6,
     "metadata": {},
     "output_type": "execute_result"
    }
   ],
   "source": [
    "# see the number of missing values in each column\n",
    "df.isnull().sum()"
   ]
  },
  {
   "cell_type": "markdown",
   "id": "e1f5dca5",
   "metadata": {
    "_cell_guid": "2e1401d4-c0c9-42ca-b546-f344afdc0e94",
    "_uuid": "271933e4-93f6-4bc6-9c6d-256a8e0cb4fa",
    "papermill": {
     "duration": 0.006904,
     "end_time": "2025-07-14T09:13:13.510489",
     "exception": false,
     "start_time": "2025-07-14T09:13:13.503585",
     "status": "completed"
    },
    "tags": []
   },
   "source": [
    "So we can find some missing values here"
   ]
  },
  {
   "cell_type": "code",
   "execution_count": 7,
   "id": "f254e9b5",
   "metadata": {
    "_cell_guid": "dffd5780-05c3-4225-9b97-f85f71da3a64",
    "_uuid": "d566a9b3-fc53-463a-8f02-1eb758396e8f",
    "collapsed": false,
    "execution": {
     "iopub.execute_input": "2025-07-14T09:13:13.526832Z",
     "iopub.status.busy": "2025-07-14T09:13:13.526462Z",
     "iopub.status.idle": "2025-07-14T09:13:13.539809Z",
     "shell.execute_reply": "2025-07-14T09:13:13.538850Z"
    },
    "jupyter": {
     "outputs_hidden": false
    },
    "papermill": {
     "duration": 0.024595,
     "end_time": "2025-07-14T09:13:13.542330",
     "exception": false,
     "start_time": "2025-07-14T09:13:13.517735",
     "status": "completed"
    },
    "tags": []
   },
   "outputs": [],
   "source": [
    "#drop missing values\n",
    "df = df.dropna()"
   ]
  },
  {
   "cell_type": "code",
   "execution_count": 8,
   "id": "6003803b",
   "metadata": {
    "_cell_guid": "b6d2c128-aad0-497c-80d3-7e64f716813e",
    "_uuid": "f1b04e1b-45f3-4ccc-9f95-a2a279fc1855",
    "collapsed": false,
    "execution": {
     "iopub.execute_input": "2025-07-14T09:13:13.558267Z",
     "iopub.status.busy": "2025-07-14T09:13:13.557904Z",
     "iopub.status.idle": "2025-07-14T09:13:13.575515Z",
     "shell.execute_reply": "2025-07-14T09:13:13.574445Z"
    },
    "jupyter": {
     "outputs_hidden": false
    },
    "papermill": {
     "duration": 0.028164,
     "end_time": "2025-07-14T09:13:13.577731",
     "exception": false,
     "start_time": "2025-07-14T09:13:13.549567",
     "status": "completed"
    },
    "tags": []
   },
   "outputs": [
    {
     "data": {
      "text/html": [
       "<div>\n",
       "<style scoped>\n",
       "    .dataframe tbody tr th:only-of-type {\n",
       "        vertical-align: middle;\n",
       "    }\n",
       "\n",
       "    .dataframe tbody tr th {\n",
       "        vertical-align: top;\n",
       "    }\n",
       "\n",
       "    .dataframe thead th {\n",
       "        text-align: right;\n",
       "    }\n",
       "</style>\n",
       "<table border=\"1\" class=\"dataframe\">\n",
       "  <thead>\n",
       "    <tr style=\"text-align: right;\">\n",
       "      <th></th>\n",
       "      <th>Speed of answer in seconds</th>\n",
       "      <th>Satisfaction rating</th>\n",
       "    </tr>\n",
       "  </thead>\n",
       "  <tbody>\n",
       "    <tr>\n",
       "      <th>count</th>\n",
       "      <td>4054.000000</td>\n",
       "      <td>4054.000000</td>\n",
       "    </tr>\n",
       "    <tr>\n",
       "      <th>mean</th>\n",
       "      <td>67.520720</td>\n",
       "      <td>3.403552</td>\n",
       "    </tr>\n",
       "    <tr>\n",
       "      <th>std</th>\n",
       "      <td>33.592872</td>\n",
       "      <td>1.212220</td>\n",
       "    </tr>\n",
       "    <tr>\n",
       "      <th>min</th>\n",
       "      <td>10.000000</td>\n",
       "      <td>1.000000</td>\n",
       "    </tr>\n",
       "    <tr>\n",
       "      <th>25%</th>\n",
       "      <td>39.000000</td>\n",
       "      <td>3.000000</td>\n",
       "    </tr>\n",
       "    <tr>\n",
       "      <th>50%</th>\n",
       "      <td>68.000000</td>\n",
       "      <td>3.000000</td>\n",
       "    </tr>\n",
       "    <tr>\n",
       "      <th>75%</th>\n",
       "      <td>97.000000</td>\n",
       "      <td>4.000000</td>\n",
       "    </tr>\n",
       "    <tr>\n",
       "      <th>max</th>\n",
       "      <td>125.000000</td>\n",
       "      <td>5.000000</td>\n",
       "    </tr>\n",
       "  </tbody>\n",
       "</table>\n",
       "</div>"
      ],
      "text/plain": [
       "       Speed of answer in seconds  Satisfaction rating\n",
       "count                 4054.000000          4054.000000\n",
       "mean                    67.520720             3.403552\n",
       "std                     33.592872             1.212220\n",
       "min                     10.000000             1.000000\n",
       "25%                     39.000000             3.000000\n",
       "50%                     68.000000             3.000000\n",
       "75%                     97.000000             4.000000\n",
       "max                    125.000000             5.000000"
      ]
     },
     "execution_count": 8,
     "metadata": {},
     "output_type": "execute_result"
    }
   ],
   "source": [
    "#descriptive statistics\n",
    "df.describe()"
   ]
  },
  {
   "cell_type": "code",
   "execution_count": 9,
   "id": "6745c875",
   "metadata": {
    "_cell_guid": "44602848-e63c-4397-89c5-223570c60f32",
    "_uuid": "5f04c826-0f8d-41f6-82b3-3d94974a8f60",
    "collapsed": false,
    "execution": {
     "iopub.execute_input": "2025-07-14T09:13:13.594527Z",
     "iopub.status.busy": "2025-07-14T09:13:13.593536Z",
     "iopub.status.idle": "2025-07-14T09:13:13.616246Z",
     "shell.execute_reply": "2025-07-14T09:13:13.615086Z"
    },
    "jupyter": {
     "outputs_hidden": false
    },
    "papermill": {
     "duration": 0.033129,
     "end_time": "2025-07-14T09:13:13.618294",
     "exception": false,
     "start_time": "2025-07-14T09:13:13.585165",
     "status": "completed"
    },
    "tags": []
   },
   "outputs": [
    {
     "name": "stdout",
     "output_type": "stream",
     "text": [
      "<class 'pandas.core.frame.DataFrame'>\n",
      "Int64Index: 4054 entries, 0 to 4998\n",
      "Data columns (total 10 columns):\n",
      " #   Column                      Non-Null Count  Dtype  \n",
      "---  ------                      --------------  -----  \n",
      " 0   Call Id                     4054 non-null   object \n",
      " 1   Agent                       4054 non-null   object \n",
      " 2   Date                        4054 non-null   object \n",
      " 3   Time                        4054 non-null   object \n",
      " 4   Topic                       4054 non-null   object \n",
      " 5   Answered (Y/N)              4054 non-null   object \n",
      " 6   Resolved                    4054 non-null   object \n",
      " 7   Speed of answer in seconds  4054 non-null   float64\n",
      " 8   AvgTalkDuration             4054 non-null   object \n",
      " 9   Satisfaction rating         4054 non-null   float64\n",
      "dtypes: float64(2), object(8)\n",
      "memory usage: 348.4+ KB\n"
     ]
    }
   ],
   "source": [
    "# get info of Dataset\n",
    "df.info()"
   ]
  },
  {
   "cell_type": "code",
   "execution_count": 10,
   "id": "dcdccfd1",
   "metadata": {
    "_cell_guid": "77ce61e6-2ab3-4b87-b171-8266404b1566",
    "_uuid": "2a499262-80de-4de3-8c7c-028b5a076742",
    "collapsed": false,
    "execution": {
     "iopub.execute_input": "2025-07-14T09:13:13.635551Z",
     "iopub.status.busy": "2025-07-14T09:13:13.635167Z",
     "iopub.status.idle": "2025-07-14T09:13:13.655748Z",
     "shell.execute_reply": "2025-07-14T09:13:13.654717Z"
    },
    "jupyter": {
     "outputs_hidden": false
    },
    "papermill": {
     "duration": 0.032114,
     "end_time": "2025-07-14T09:13:13.658036",
     "exception": false,
     "start_time": "2025-07-14T09:13:13.625922",
     "status": "completed"
    },
    "tags": []
   },
   "outputs": [
    {
     "data": {
      "text/plain": [
       "0       143\n",
       "1       242\n",
       "2       131\n",
       "3        37\n",
       "4        60\n",
       "       ... \n",
       "4990    386\n",
       "4995    340\n",
       "4996    196\n",
       "4997    109\n",
       "4998     58\n",
       "Name: TotalSeconds, Length: 4054, dtype: int64"
      ]
     },
     "execution_count": 10,
     "metadata": {},
     "output_type": "execute_result"
    }
   ],
   "source": [
    "# Convert object datatype to time dtype\n",
    "df['AvgTalkDuration'] = pd.to_datetime(df['AvgTalkDuration'], format='%H:%M:%S').dt.time\n",
    "# use lambda to caculate total_s\n",
    "df['TotalSeconds'] = df['AvgTalkDuration'].apply(lambda x: x.hour * 3600 + x.minute * 60 + x.second)\n",
    "df['TotalSeconds']"
   ]
  },
  {
   "cell_type": "markdown",
   "id": "8e5b2fcc",
   "metadata": {
    "_cell_guid": "86ce6298-a84f-4cab-8222-ee674e2542d5",
    "_uuid": "2e3f7657-8fac-4ce3-a624-f1d0dfaeff9f",
    "papermill": {
     "duration": 0.007411,
     "end_time": "2025-07-14T09:13:13.673090",
     "exception": false,
     "start_time": "2025-07-14T09:13:13.665679",
     "status": "completed"
    },
    "tags": []
   },
   "source": [
    "Explore relationship between 'AvgTalkDuration' and 'Satisfaction rating'"
   ]
  },
  {
   "cell_type": "code",
   "execution_count": 11,
   "id": "73cc2730",
   "metadata": {
    "_cell_guid": "7099b7af-7103-4a44-97e9-4abff7e70e30",
    "_uuid": "315f9e7b-be86-4462-b6e6-3fbc10d1c541",
    "collapsed": false,
    "execution": {
     "iopub.execute_input": "2025-07-14T09:13:13.690761Z",
     "iopub.status.busy": "2025-07-14T09:13:13.689703Z",
     "iopub.status.idle": "2025-07-14T09:13:13.704858Z",
     "shell.execute_reply": "2025-07-14T09:13:13.703657Z"
    },
    "jupyter": {
     "outputs_hidden": false
    },
    "papermill": {
     "duration": 0.026003,
     "end_time": "2025-07-14T09:13:13.706983",
     "exception": false,
     "start_time": "2025-07-14T09:13:13.680980",
     "status": "completed"
    },
    "tags": []
   },
   "outputs": [
    {
     "name": "stderr",
     "output_type": "stream",
     "text": [
      "/tmp/ipykernel_20/2389556100.py:2: FutureWarning: The default value of numeric_only in DataFrame.corr is deprecated. In a future version, it will default to False. Select only valid columns or specify the value of numeric_only to silence this warning.\n",
      "  df.corr()\n"
     ]
    },
    {
     "data": {
      "text/html": [
       "<div>\n",
       "<style scoped>\n",
       "    .dataframe tbody tr th:only-of-type {\n",
       "        vertical-align: middle;\n",
       "    }\n",
       "\n",
       "    .dataframe tbody tr th {\n",
       "        vertical-align: top;\n",
       "    }\n",
       "\n",
       "    .dataframe thead th {\n",
       "        text-align: right;\n",
       "    }\n",
       "</style>\n",
       "<table border=\"1\" class=\"dataframe\">\n",
       "  <thead>\n",
       "    <tr style=\"text-align: right;\">\n",
       "      <th></th>\n",
       "      <th>Speed of answer in seconds</th>\n",
       "      <th>Satisfaction rating</th>\n",
       "      <th>TotalSeconds</th>\n",
       "    </tr>\n",
       "  </thead>\n",
       "  <tbody>\n",
       "    <tr>\n",
       "      <th>Speed of answer in seconds</th>\n",
       "      <td>1.000000</td>\n",
       "      <td>0.000952</td>\n",
       "      <td>-0.002898</td>\n",
       "    </tr>\n",
       "    <tr>\n",
       "      <th>Satisfaction rating</th>\n",
       "      <td>0.000952</td>\n",
       "      <td>1.000000</td>\n",
       "      <td>0.000143</td>\n",
       "    </tr>\n",
       "    <tr>\n",
       "      <th>TotalSeconds</th>\n",
       "      <td>-0.002898</td>\n",
       "      <td>0.000143</td>\n",
       "      <td>1.000000</td>\n",
       "    </tr>\n",
       "  </tbody>\n",
       "</table>\n",
       "</div>"
      ],
      "text/plain": [
       "                            Speed of answer in seconds  Satisfaction rating  \\\n",
       "Speed of answer in seconds                    1.000000             0.000952   \n",
       "Satisfaction rating                           0.000952             1.000000   \n",
       "TotalSeconds                                 -0.002898             0.000143   \n",
       "\n",
       "                            TotalSeconds  \n",
       "Speed of answer in seconds     -0.002898  \n",
       "Satisfaction rating             0.000143  \n",
       "TotalSeconds                    1.000000  "
      ]
     },
     "execution_count": 11,
     "metadata": {},
     "output_type": "execute_result"
    }
   ],
   "source": [
    "#Calculate the correlation between numeric columns.\n",
    "df.corr()"
   ]
  },
  {
   "cell_type": "markdown",
   "id": "a3171aa5",
   "metadata": {
    "_cell_guid": "c5ce807b-ff65-47a5-b76b-ed4c51aeb3a3",
    "_uuid": "ffc277d2-ac8d-4a0a-a16a-092eb30bc9d2",
    "papermill": {
     "duration": 0.007571,
     "end_time": "2025-07-14T09:13:13.722357",
     "exception": false,
     "start_time": "2025-07-14T09:13:13.714786",
     "status": "completed"
    },
    "tags": []
   },
   "source": [
    "Hence AvgTalkDuration has no correlation with Satisfaction rating.\n",
    "\n",
    "a correlation coefficient of 0.000143 suggests a very weak positive correlation or no meaningful linear relationship between the variables being compared. The value is very close to 0, which implies that there is little to no linear pattern between the variables."
   ]
  },
  {
   "cell_type": "code",
   "execution_count": 12,
   "id": "f6c540c3",
   "metadata": {
    "_cell_guid": "9401751a-5b36-4711-bb88-1130728cddd3",
    "_uuid": "60ed57e7-1788-412e-bf4e-43ede8271b82",
    "collapsed": false,
    "execution": {
     "iopub.execute_input": "2025-07-14T09:13:13.740119Z",
     "iopub.status.busy": "2025-07-14T09:13:13.739748Z",
     "iopub.status.idle": "2025-07-14T09:13:13.747406Z",
     "shell.execute_reply": "2025-07-14T09:13:13.746334Z"
    },
    "jupyter": {
     "outputs_hidden": false
    },
    "papermill": {
     "duration": 0.0189,
     "end_time": "2025-07-14T09:13:13.749592",
     "exception": false,
     "start_time": "2025-07-14T09:13:13.730692",
     "status": "completed"
    },
    "tags": []
   },
   "outputs": [
    {
     "data": {
      "text/plain": [
       "Index(['Call Id', 'Agent', 'Date', 'Time', 'Topic', 'Answered (Y/N)',\n",
       "       'Resolved', 'Speed of answer in seconds', 'AvgTalkDuration',\n",
       "       'Satisfaction rating', 'TotalSeconds'],\n",
       "      dtype='object')"
      ]
     },
     "execution_count": 12,
     "metadata": {},
     "output_type": "execute_result"
    }
   ],
   "source": [
    "# retrieve the list of column labels\n",
    "df.columns"
   ]
  },
  {
   "cell_type": "markdown",
   "id": "d8a7c487",
   "metadata": {
    "_cell_guid": "51e2031a-41e2-4200-aed3-90fd7a780b98",
    "_uuid": "b9e5b1e2-4298-4760-b423-fda5209a1f3f",
    "papermill": {
     "duration": 0.007786,
     "end_time": "2025-07-14T09:13:13.765831",
     "exception": false,
     "start_time": "2025-07-14T09:13:13.758045",
     "status": "completed"
    },
    "tags": []
   },
   "source": [
    "# **Based on the above columns, we seek to create metrics for the call centre dashboard:**"
   ]
  },
  {
   "cell_type": "markdown",
   "id": "701ec2f9",
   "metadata": {
    "_cell_guid": "7a4fb6d6-d124-45cd-b327-20f71cf22232",
    "_uuid": "5719cb9b-fbf9-48c5-b9f8-b2a9b4a9f477",
    "papermill": {
     "duration": 0.007836,
     "end_time": "2025-07-14T09:13:13.781972",
     "exception": false,
     "start_time": "2025-07-14T09:13:13.774136",
     "status": "completed"
    },
    "tags": []
   },
   "source": [
    "df.drop_duplicates()"
   ]
  },
  {
   "cell_type": "code",
   "execution_count": 13,
   "id": "5481e787",
   "metadata": {
    "_cell_guid": "68ce2365-27ad-407c-958d-5f96a3515a0d",
    "_uuid": "9ffa0603-409e-4e11-abee-f3dd56bd46dd",
    "collapsed": false,
    "execution": {
     "iopub.execute_input": "2025-07-14T09:13:13.801004Z",
     "iopub.status.busy": "2025-07-14T09:13:13.800142Z",
     "iopub.status.idle": "2025-07-14T09:13:13.806277Z",
     "shell.execute_reply": "2025-07-14T09:13:13.805320Z"
    },
    "jupyter": {
     "outputs_hidden": false
    },
    "papermill": {
     "duration": 0.017731,
     "end_time": "2025-07-14T09:13:13.808331",
     "exception": false,
     "start_time": "2025-07-14T09:13:13.790600",
     "status": "completed"
    },
    "tags": []
   },
   "outputs": [
    {
     "data": {
      "text/plain": [
       "4054"
      ]
     },
     "execution_count": 13,
     "metadata": {},
     "output_type": "execute_result"
    }
   ],
   "source": [
    "#Total Calls: Count the total number of calls made to the call center.\n",
    "len(df)"
   ]
  },
  {
   "cell_type": "code",
   "execution_count": 14,
   "id": "25113239",
   "metadata": {
    "_cell_guid": "75c22f0d-13c6-4e6f-9773-bd95759aedc6",
    "_uuid": "6c86e3d1-15a2-49ba-baeb-4f8b9acbfbc0",
    "collapsed": false,
    "execution": {
     "iopub.execute_input": "2025-07-14T09:13:13.827375Z",
     "iopub.status.busy": "2025-07-14T09:13:13.826996Z",
     "iopub.status.idle": "2025-07-14T09:13:13.834721Z",
     "shell.execute_reply": "2025-07-14T09:13:13.833703Z"
    },
    "jupyter": {
     "outputs_hidden": false
    },
    "papermill": {
     "duration": 0.020279,
     "end_time": "2025-07-14T09:13:13.836885",
     "exception": false,
     "start_time": "2025-07-14T09:13:13.816606",
     "status": "completed"
    },
    "tags": []
   },
   "outputs": [
    {
     "data": {
      "text/plain": [
       "4054"
      ]
     },
     "execution_count": 14,
     "metadata": {},
     "output_type": "execute_result"
    }
   ],
   "source": [
    "#Total Unique Callers: Count the number of unique callers who have contacted the call center.\n",
    "df['Call Id'].nunique()"
   ]
  },
  {
   "cell_type": "code",
   "execution_count": 15,
   "id": "7b5a9a26",
   "metadata": {
    "_cell_guid": "3275f235-01e9-4ab4-a902-b555c5c37901",
    "_uuid": "4ba36828-4bc0-481a-8db9-b91367108d51",
    "collapsed": false,
    "execution": {
     "iopub.execute_input": "2025-07-14T09:13:13.854734Z",
     "iopub.status.busy": "2025-07-14T09:13:13.854333Z",
     "iopub.status.idle": "2025-07-14T09:13:13.863838Z",
     "shell.execute_reply": "2025-07-14T09:13:13.862918Z"
    },
    "jupyter": {
     "outputs_hidden": false
    },
    "papermill": {
     "duration": 0.021022,
     "end_time": "2025-07-14T09:13:13.866100",
     "exception": false,
     "start_time": "2025-07-14T09:13:13.845078",
     "status": "completed"
    },
    "tags": []
   },
   "outputs": [
    {
     "data": {
      "text/plain": [
       "3646"
      ]
     },
     "execution_count": 15,
     "metadata": {},
     "output_type": "execute_result"
    }
   ],
   "source": [
    "#Total Calls Resolved\n",
    "len(df[df['Resolved']== 'Y'])"
   ]
  },
  {
   "cell_type": "code",
   "execution_count": 16,
   "id": "e2ba1e41",
   "metadata": {
    "_cell_guid": "eaf3f50f-30f9-42d0-bcec-b1ede57e96b1",
    "_uuid": "89251b79-94ea-4cab-bee7-2b3f258fb600",
    "collapsed": false,
    "execution": {
     "iopub.execute_input": "2025-07-14T09:13:13.884739Z",
     "iopub.status.busy": "2025-07-14T09:13:13.884331Z",
     "iopub.status.idle": "2025-07-14T09:13:13.894204Z",
     "shell.execute_reply": "2025-07-14T09:13:13.893199Z"
    },
    "jupyter": {
     "outputs_hidden": false
    },
    "papermill": {
     "duration": 0.0222,
     "end_time": "2025-07-14T09:13:13.896489",
     "exception": false,
     "start_time": "2025-07-14T09:13:13.874289",
     "status": "completed"
    },
    "tags": []
   },
   "outputs": [
    {
     "data": {
      "text/plain": [
       "'89.94%'"
      ]
     },
     "execution_count": 16,
     "metadata": {},
     "output_type": "execute_result"
    }
   ],
   "source": [
    "#Call Resolution Rate: Percentage of calls that were successfully resolved.\n",
    "Call_Resolution_Rate = len(df[df['Resolved']== 'Y'])/len(df)*100\n",
    "# Round to 2 decimal places\n",
    "Call_Resolution_Rate = round(Call_Resolution_Rate,2)\n",
    "# Format as a string with 2 decimal places and %\n",
    "Call_Resolution_Rate = f\"{Call_Resolution_Rate:.2f}%\"\n",
    "Call_Resolution_Rate"
   ]
  },
  {
   "cell_type": "code",
   "execution_count": 17,
   "id": "fbd77795",
   "metadata": {
    "_cell_guid": "319a4a5d-f930-46f4-81b9-14e53cc481c0",
    "_uuid": "74945102-78f5-40a5-aa69-d05d94800fab",
    "collapsed": false,
    "execution": {
     "iopub.execute_input": "2025-07-14T09:13:13.914518Z",
     "iopub.status.busy": "2025-07-14T09:13:13.914147Z",
     "iopub.status.idle": "2025-07-14T09:13:13.921343Z",
     "shell.execute_reply": "2025-07-14T09:13:13.920254Z"
    },
    "jupyter": {
     "outputs_hidden": false
    },
    "papermill": {
     "duration": 0.018833,
     "end_time": "2025-07-14T09:13:13.923540",
     "exception": false,
     "start_time": "2025-07-14T09:13:13.904707",
     "status": "completed"
    },
    "tags": []
   },
   "outputs": [
    {
     "data": {
      "text/plain": [
       "224.92"
      ]
     },
     "execution_count": 17,
     "metadata": {},
     "output_type": "execute_result"
    }
   ],
   "source": [
    "#Average Call Duration (/s): Calculate the average duration of calls.\n",
    "Average_Call_Duration = df['TotalSeconds'].mean()\n",
    "Average_Call_Duration = round (Average_Call_Duration,2)\n",
    "Average_Call_Duration"
   ]
  },
  {
   "cell_type": "code",
   "execution_count": 18,
   "id": "83a7d761",
   "metadata": {
    "_cell_guid": "3f511a9b-108d-4f07-8e82-cee650e0059a",
    "_uuid": "34c82b51-a054-40d2-930f-c5183663397e",
    "collapsed": false,
    "execution": {
     "iopub.execute_input": "2025-07-14T09:13:13.942256Z",
     "iopub.status.busy": "2025-07-14T09:13:13.941904Z",
     "iopub.status.idle": "2025-07-14T09:13:13.949548Z",
     "shell.execute_reply": "2025-07-14T09:13:13.948297Z"
    },
    "jupyter": {
     "outputs_hidden": false
    },
    "papermill": {
     "duration": 0.019759,
     "end_time": "2025-07-14T09:13:13.951698",
     "exception": false,
     "start_time": "2025-07-14T09:13:13.931939",
     "status": "completed"
    },
    "tags": []
   },
   "outputs": [
    {
     "data": {
      "text/plain": [
       "0"
      ]
     },
     "execution_count": 18,
     "metadata": {},
     "output_type": "execute_result"
    }
   ],
   "source": [
    "#Total Abandoned Calls: Count the number of calls that were abandoned by callers before being answered.\n",
    "\n",
    "len(df[df['Answered (Y/N)']=='N'])"
   ]
  },
  {
   "cell_type": "code",
   "execution_count": 19,
   "id": "1870c74b",
   "metadata": {
    "_cell_guid": "fec5afc5-3b4e-41cc-b653-1d9f64589ce3",
    "_uuid": "6746e7b0-a76e-48cd-8071-23123aa6c22a",
    "collapsed": false,
    "execution": {
     "iopub.execute_input": "2025-07-14T09:13:13.971531Z",
     "iopub.status.busy": "2025-07-14T09:13:13.971035Z",
     "iopub.status.idle": "2025-07-14T09:13:13.979050Z",
     "shell.execute_reply": "2025-07-14T09:13:13.978089Z"
    },
    "jupyter": {
     "outputs_hidden": false
    },
    "papermill": {
     "duration": 0.020569,
     "end_time": "2025-07-14T09:13:13.981075",
     "exception": false,
     "start_time": "2025-07-14T09:13:13.960506",
     "status": "completed"
    },
    "tags": []
   },
   "outputs": [
    {
     "data": {
      "text/plain": [
       "0.0"
      ]
     },
     "execution_count": 19,
     "metadata": {},
     "output_type": "execute_result"
    }
   ],
   "source": [
    "#Abandonment Rate: Percentage of calls that were abandoned.\n",
    "\n",
    "len(df[df['Answered (Y/N)']=='N'])/len(df)"
   ]
  },
  {
   "cell_type": "code",
   "execution_count": 20,
   "id": "fe56bfa5",
   "metadata": {
    "_cell_guid": "fc9ae02e-88f6-489b-85f7-c910e816aaee",
    "_uuid": "1d1de36b-ea8d-466a-993b-e86a447487fe",
    "collapsed": false,
    "execution": {
     "iopub.execute_input": "2025-07-14T09:13:14.000533Z",
     "iopub.status.busy": "2025-07-14T09:13:14.000161Z",
     "iopub.status.idle": "2025-07-14T09:13:14.010080Z",
     "shell.execute_reply": "2025-07-14T09:13:14.009021Z"
    },
    "jupyter": {
     "outputs_hidden": false
    },
    "papermill": {
     "duration": 0.022512,
     "end_time": "2025-07-14T09:13:14.012346",
     "exception": false,
     "start_time": "2025-07-14T09:13:13.989834",
     "status": "completed"
    },
    "tags": []
   },
   "outputs": [
    {
     "data": {
      "text/plain": [
       "67.52"
      ]
     },
     "execution_count": 20,
     "metadata": {},
     "output_type": "execute_result"
    }
   ],
   "source": [
    "#Average Hold Time: Calculate the average time callers spend on hold before their calls are answered.\n",
    "average_hold_time = df[df['Answered (Y/N)'] == 'Y']['Speed of answer in seconds'].mean()\n",
    "average_hold_time = round(average_hold_time,2)\n",
    "average_hold_time"
   ]
  },
  {
   "cell_type": "code",
   "execution_count": 21,
   "id": "c300fa03",
   "metadata": {
    "_cell_guid": "db3b9b14-d26d-41ae-8861-ed897e5c6c1e",
    "_uuid": "909a8711-d398-4940-838c-427a6d8130ea",
    "collapsed": false,
    "execution": {
     "iopub.execute_input": "2025-07-14T09:13:14.032040Z",
     "iopub.status.busy": "2025-07-14T09:13:14.031691Z",
     "iopub.status.idle": "2025-07-14T09:13:14.041179Z",
     "shell.execute_reply": "2025-07-14T09:13:14.040100Z"
    },
    "jupyter": {
     "outputs_hidden": false
    },
    "papermill": {
     "duration": 0.022093,
     "end_time": "2025-07-14T09:13:14.043308",
     "exception": false,
     "start_time": "2025-07-14T09:13:14.021215",
     "status": "completed"
    },
    "tags": []
   },
   "outputs": [
    {
     "data": {
      "text/plain": [
       "'0.70%'"
      ]
     },
     "execution_count": 21,
     "metadata": {},
     "output_type": "execute_result"
    }
   ],
   "source": [
    "#Service Level Agreement (SLA) Adherence: Measure the percentage of calls answered within a certain timeframe, e.g., 80% of calls answered within 20 seconds.\n",
    "#Assume the timeframe threshold is 60\n",
    "Sla_threshold = 90\n",
    "SLA_Adherence = len(df[df['Speed of answer in seconds']<=Sla_threshold])/len(df)\n",
    "SLA_Adherence = round(SLA_Adherence,2)\n",
    "SLA_Adherence = f\"{SLA_Adherence:.2f}%\"\n",
    "SLA_Adherence"
   ]
  },
  {
   "cell_type": "code",
   "execution_count": 22,
   "id": "5ed8f096",
   "metadata": {
    "_cell_guid": "7a85d04c-479a-4c70-8a31-376c00c5b697",
    "_uuid": "e1db84a0-93f2-47a2-b3c1-650038ab8019",
    "collapsed": false,
    "execution": {
     "iopub.execute_input": "2025-07-14T09:13:14.062587Z",
     "iopub.status.busy": "2025-07-14T09:13:14.062256Z",
     "iopub.status.idle": "2025-07-14T09:13:14.069968Z",
     "shell.execute_reply": "2025-07-14T09:13:14.068948Z"
    },
    "jupyter": {
     "outputs_hidden": false
    },
    "papermill": {
     "duration": 0.019958,
     "end_time": "2025-07-14T09:13:14.071994",
     "exception": false,
     "start_time": "2025-07-14T09:13:14.052036",
     "status": "completed"
    },
    "tags": []
   },
   "outputs": [
    {
     "data": {
      "text/plain": [
       "3.4"
      ]
     },
     "execution_count": 22,
     "metadata": {},
     "output_type": "execute_result"
    }
   ],
   "source": [
    "#Caller Satisfaction: Calculate the average caller satisfaction score.\n",
    "Caller_Satisfaction = df['Satisfaction rating'].mean()\n",
    "Caller_Satisfaction = round(Caller_Satisfaction,2)\n",
    "Caller_Satisfaction"
   ]
  },
  {
   "cell_type": "code",
   "execution_count": 23,
   "id": "9635ae4d",
   "metadata": {
    "execution": {
     "iopub.execute_input": "2025-07-14T09:13:14.091293Z",
     "iopub.status.busy": "2025-07-14T09:13:14.090929Z",
     "iopub.status.idle": "2025-07-14T09:13:14.467838Z",
     "shell.execute_reply": "2025-07-14T09:13:14.466866Z"
    },
    "papermill": {
     "duration": 0.389243,
     "end_time": "2025-07-14T09:13:14.469945",
     "exception": false,
     "start_time": "2025-07-14T09:13:14.080702",
     "status": "completed"
    },
    "tags": []
   },
   "outputs": [
    {
     "data": {
      "image/png": "[encoded data removed]",
      "text/plain": [
       "<Figure size 1000x600 with 1 Axes>"
      ]
     },
     "metadata": {},
     "output_type": "display_data"
    }
   ],
   "source": [
    "# Group by agent and get average satisfaction rating\n",
    "avg_satisfaction = df.groupby('Agent')['Satisfaction rating'].mean().sort_values()\n",
    "\n",
    "# Plot\n",
    "plt.figure(figsize=(10,6))\n",
    "avg_satisfaction.plot(kind='barh', color='skyblue')\n",
    "plt.title('Average Satisfaction Rating by Agent')\n",
    "plt.xlabel('Average Rating')\n",
    "plt.ylabel('Agent')\n",
    "plt.tight_layout()\n",
    "plt.show()"
   ]
  },
  {
   "cell_type": "code",
   "execution_count": 24,
   "id": "b24c3f87",
   "metadata": {
    "execution": {
     "iopub.execute_input": "2025-07-14T09:13:14.490917Z",
     "iopub.status.busy": "2025-07-14T09:13:14.490497Z",
     "iopub.status.idle": "2025-07-14T09:13:14.799154Z",
     "shell.execute_reply": "2025-07-14T09:13:14.798217Z"
    },
    "papermill": {
     "duration": 0.322015,
     "end_time": "2025-07-14T09:13:14.801316",
     "exception": false,
     "start_time": "2025-07-14T09:13:14.479301",
     "status": "completed"
    },
    "tags": []
   },
   "outputs": [
    {
     "data": {
      "text/plain": [
       "<Figure size 1200x600 with 0 Axes>"
      ]
     },
     "metadata": {},
     "output_type": "display_data"
    },
    {
     "data": {
      "image/png": "[encoded data removed]",
      "text/plain": [
       "<Figure size 640x480 with 1 Axes>"
      ]
     },
     "metadata": {},
     "output_type": "display_data"
    }
   ],
   "source": [
    "# Plot boxplot to compare answer speeds across topics\n",
    "plt.figure(figsize=(12,6))\n",
    "df.boxplot(column='Speed of answer in seconds', by='Topic', grid=False)\n",
    "plt.title('Speed of Answer by Topic')\n",
    "plt.suptitle('')\n",
    "plt.ylabel('Seconds')\n",
    "plt.xticks(rotation=45)\n",
    "plt.tight_layout()\n",
    "plt.show()"
   ]
  },
  {
   "cell_type": "code",
   "execution_count": 25,
   "id": "b6262d7c",
   "metadata": {
    "execution": {
     "iopub.execute_input": "2025-07-14T09:13:14.823536Z",
     "iopub.status.busy": "2025-07-14T09:13:14.823181Z",
     "iopub.status.idle": "2025-07-14T09:13:15.431342Z",
     "shell.execute_reply": "2025-07-14T09:13:15.430227Z"
    },
    "papermill": {
     "duration": 0.622145,
     "end_time": "2025-07-14T09:13:15.433841",
     "exception": false,
     "start_time": "2025-07-14T09:13:14.811696",
     "status": "completed"
    },
    "tags": []
   },
   "outputs": [
    {
     "data": {
      "image/png": "[encoded data removed]",
      "text/plain": [
       "<Figure size 1200x600 with 1 Axes>"
      ]
     },
     "metadata": {},
     "output_type": "display_data"
    }
   ],
   "source": [
    "# Convert 'Date' column to datetime\n",
    "df['Date'] = pd.to_datetime(df['Date'])\n",
    "\n",
    "# Count calls per day\n",
    "calls_per_day = df.groupby('Date').size()\n",
    "\n",
    "# Plot\n",
    "plt.figure(figsize=(12,6))\n",
    "calls_per_day.plot(kind='line', marker='o')\n",
    "plt.title('Number of Calls per Day')\n",
    "plt.xlabel('Date')\n",
    "plt.ylabel('Number of Calls')\n",
    "plt.grid(True)\n",
    "plt.tight_layout()\n",
    "plt.show()"
   ]
  },
  {
   "cell_type": "markdown",
   "id": "6abd795a",
   "metadata": {
    "papermill": {
     "duration": 0.011174,
     "end_time": "2025-07-14T09:13:15.457126",
     "exception": false,
     "start_time": "2025-07-14T09:13:15.445952",
     "status": "completed"
    },
    "tags": []
   },
   "source": [
    "** Call Center Performance Summary**\n",
    "-Call Resolution Rate (CRR): With a CRR of 89.94%, the team demonstrates strong problem-solving capabilities and is likely resolving most issues on the first contact.\n",
    "\n",
    "-Average Call Duration (ACD): Calls last about 224.92 seconds (~3 minutes 45 seconds), reflecting efficient handling times that contribute to high resolution rates.\n",
    "\n",
    "-Abandonment Rate: A 0% abandonment rate shows that callers are receiving prompt responses, minimizing frustration and improving service perception.\n",
    "\n",
    "-Average Hold Time: An average hold time of 67.52 seconds suggests that agents are readily available, supporting the center’s ability to maintain low abandonment rates.\n",
    "\n",
    "-SLA Adherence: 70% of calls are answered within 90 seconds, indicating reasonable SLA compliance. There may be opportunities to further improve adherence, especially by streamlining post-call tasks.\n",
    "\n",
    "-Customer Satisfaction: A satisfaction score of 3.4 out of 5 reflects a decent level of service, though there's clear potential to better match the customer experience with the resolution success rate.\n",
    "\n"
   ]
  }
 ],
 "metadata": {
  "kaggle": {
   "accelerator": "none",
   "dataSources": [
    {
     "datasetId": 3061643,
     "sourceId": 5261048,
     "sourceType": "datasetVersion"
    }
   ],
   "dockerImageVersionId": 30527,
   "isGpuEnabled": false,
   "isInternetEnabled": false,
   "language": "python",
   "sourceType": "notebook"
  },
  "kernelspec": {
   "display_name": "Python 3",
   "language": "python",
   "name": "python3"
  },
  "language_info": {
   "codemirror_mode": {
    "name": "ipython",
    "version": 3
   },
   "file_extension": ".py",
   "mimetype": "text/x-python",
   "name": "python",
   "nbconvert_exporter": "python",
   "pygments_lexer": "ipython3",
   "version": "3.10.12"
  },
  "papermill": {
   "default_parameters": {},
   "duration": 15.950803,
   "end_time": "2025-07-14T09:13:16.393035",
   "environment_variables": {},
   "exception": null,
   "input_path": "__notebook__.ipynb",
   "output_path": "__notebook__.ipynb",
   "parameters": {},
   "start_time": "2025-07-14T09:13:00.442232",
   "version": "2.4.0"
  }
 },
 "nbformat": 4,
 "nbformat_minor": 5
}
